{
  "nbformat": 4,
  "nbformat_minor": 0,
  "metadata": {
    "colab": {
      "provenance": [],
      "authorship_tag": "ABX9TyO/O6OlHgdvBx/4C2BLMGg9",
      "include_colab_link": true
    },
    "kernelspec": {
      "name": "python3",
      "display_name": "Python 3"
    },
    "language_info": {
      "name": "python"
    }
  },
  "cells": [
    {
      "cell_type": "markdown",
      "metadata": {
        "id": "view-in-github",
        "colab_type": "text"
      },
      "source": [
        "<a href=\"https://colab.research.google.com/github/Giovanni-Chipuli/Churn_Clasif_Despliegue/blob/main/Churn_3_Despliegue.ipynb\" target=\"_parent\"><img src=\"https://colab.research.google.com/assets/colab-badge.svg\" alt=\"Open In Colab\"/></a>"
      ]
    },
    {
      "cell_type": "markdown",
      "source": [
        "#Listado de Dependencias"
      ],
      "metadata": {
        "id": "PdYWPST6RTj5"
      }
    },
    {
      "cell_type": "code",
      "source": [
        "import numpy as pd\n",
        "import pandas as pd\n",
        "import matplotlib.pyplot as plt\n",
        "import pickle as pkl\n",
        "from sklearn.preprocessing import LabelEncoder\n",
        "from sklearn.preprocessing import StandardScaler\n",
        "from sklearn.tree import DecisionTreeClassifier"
      ],
      "metadata": {
        "id": "xWzVisB_SL4g"
      },
      "execution_count": 1,
      "outputs": []
    },
    {
      "cell_type": "markdown",
      "source": [
        "#Seteo de Parámetros"
      ],
      "metadata": {
        "id": "uM9FoYXvRXmT"
      }
    },
    {
      "cell_type": "code",
      "source": [
        "periodo = 202301       #fecha de dataset con datos de nuevos clientes (enero del 2023, por ejemplo)\n",
        "\n",
        "#nombre del nuevo dataset (para este cuaderno, la dirección de descarga de un dataset que simula nuevos datos)\n",
        "FileNewData = 'https://raw.githubusercontent.com/Giovanni-Chipuli/Churn_Clasif_Despliegue/main/Archivos/Churn_Modelling_New.csv'\n",
        "#nombre del archivo que contiene el modelo seleccionado\n",
        "FileModel = 'Modelo_Churn_Final.pkl'    #descarga del archivo en: https://github.com/Giovanni-Chipuli/Churn_Clasif_Despliegue/blob/main/Archivos/Modelo_Churn_Final.pkl\n",
        "FileDataDelivery = f'df_Modelo_Churn_{periodo}.gzip'\n",
        "id = 'CustomerId'\n",
        "target = 'Exited'"
      ],
      "metadata": {
        "id": "Lj4A0K2BS7XI"
      },
      "execution_count": 2,
      "outputs": []
    },
    {
      "cell_type": "markdown",
      "source": [
        "#Data Preparation"
      ],
      "metadata": {
        "id": "tKhHUAMCRaZq"
      }
    },
    {
      "cell_type": "code",
      "source": [
        "cm = pd.read_csv(FileNewData)                        #el archivo con nuevos datos se guarda en un objeto\n",
        "modelo = pkl.load(open(FileModel, 'rb'))             #se carga el archivo .pkl que contiene el modelo seleccionado y se guarda en un objeto al que se le llama \"modelo\"\n",
        "\n",
        "#tabla única\n",
        "var_predict = list(set(cm.columns)-{'Surname'} - {id})\n",
        "cmTU = cm[[id]+var_predict]\n",
        "\n",
        "#Tratamiento de los datos categóricos\n",
        "le = LabelEncoder()\n",
        "le.fit(cmTU['Gender'])\n",
        "cmTU['Gender'] = le.transform(cmTU['Gender'])\n",
        "le.fit(cmTU['Geography'])\n",
        "cmTU['Geography'] = le.transform(cmTU['Geography'])\n",
        "\n",
        "#tratamiento de datos. Normalización\n",
        "cmTU_esc = cmTU[['Age', 'EstimatedSalary', 'Balance', 'CreditScore']].copy()\n",
        "\n",
        "scaler = StandardScaler()\n",
        "scaler.fit(cmTU_esc)\n",
        "cmTU_esc2 = scaler.transform(cmTU_esc)\n",
        "\n",
        "cmTU_esc2 = pd.DataFrame(cmTU_esc2)\n",
        "cmTU_esc2.columns= ['Age_esc', 'EstimatedSalary_Esc', 'Balance_esc', 'CreditScore_esc']\n",
        "cmTU2 = pd.concat([cmTU, cmTU_esc2], axis= 1)\n",
        "cmTU2.drop(['Age', 'EstimatedSalary', 'Balance', 'CreditScore'], axis = 'columns', inplace= True)\n",
        "\n",
        "#tratamiento de datos. Atípicos\n",
        "var_out = ['Age_esc', 'CreditScore_esc', 'NumOfProducts']\n",
        "for col in var_out:\n",
        "  p25= cmTU2[col].describe()['25%']\n",
        "  p75= cmTU2[col].describe()['75%']\n",
        "  IQR= p75 - p25\n",
        "  minbox = p25-(1.5*IQR)\n",
        "  maxbox = p75+(1.5*IQR)\n",
        "  cmTU2[col] = cmTU2[col].apply(lambda x: minbox if x<minbox else x)\n",
        "  cmTU2[col] = cmTU2[col].apply(lambda x: maxbox if x>maxbox else x)\n",
        "\n",
        "#se obtienen las variables finales generadas en el cuaderno anterior\n",
        "var_predict = list(modelo.feature_names_in_)\n",
        "\n",
        "#separación de datos\n",
        "X = cmTU2[var_predict]\n",
        "#ya no se crea el objeto \"y\" que contenga a \"Target\", ya que es lo que se pretende clasificar"
      ],
      "metadata": {
        "id": "2BVbW7PyT7S5",
        "colab": {
          "base_uri": "https://localhost:8080/"
        },
        "outputId": "ab7afd22-8c18-4bc2-f6cf-16e6ad8427cd"
      },
      "execution_count": 3,
      "outputs": [
        {
          "output_type": "stream",
          "name": "stderr",
          "text": [
            "<ipython-input-3-72260fcf787a>:11: SettingWithCopyWarning: \n",
            "A value is trying to be set on a copy of a slice from a DataFrame.\n",
            "Try using .loc[row_indexer,col_indexer] = value instead\n",
            "\n",
            "See the caveats in the documentation: https://pandas.pydata.org/pandas-docs/stable/user_guide/indexing.html#returning-a-view-versus-a-copy\n",
            "  cmTU['Gender'] = le.transform(cmTU['Gender'])\n",
            "<ipython-input-3-72260fcf787a>:13: SettingWithCopyWarning: \n",
            "A value is trying to be set on a copy of a slice from a DataFrame.\n",
            "Try using .loc[row_indexer,col_indexer] = value instead\n",
            "\n",
            "See the caveats in the documentation: https://pandas.pydata.org/pandas-docs/stable/user_guide/indexing.html#returning-a-view-versus-a-copy\n",
            "  cmTU['Geography'] = le.transform(cmTU['Geography'])\n"
          ]
        }
      ]
    },
    {
      "cell_type": "markdown",
      "source": [
        "#Inferencia"
      ],
      "metadata": {
        "id": "TiRbwLqbRxIn"
      }
    },
    {
      "cell_type": "code",
      "source": [
        "cmTU2[f'{target}_pred'] = modelo.predict(X)\n",
        "cmTU2['Prob_pred'] = modelo.predict_proba(X)[:,1]"
      ],
      "metadata": {
        "id": "b-_ymYNV1Ez0"
      },
      "execution_count": 4,
      "outputs": []
    },
    {
      "cell_type": "markdown",
      "source": [
        "#Delivery"
      ],
      "metadata": {
        "id": "gmLClsY1R31L"
      }
    },
    {
      "cell_type": "code",
      "source": [
        "cmTU2.to_parquet(FileDataDelivery)"
      ],
      "metadata": {
        "id": "N2TzXiG72kVZ"
      },
      "execution_count": 5,
      "outputs": []
    },
    {
      "cell_type": "code",
      "source": [
        "#predicciones\n",
        "cmTU2.head()"
      ],
      "metadata": {
        "colab": {
          "base_uri": "https://localhost:8080/",
          "height": 206
        },
        "id": "7eMlB1AyxfZB",
        "outputId": "64b83360-d90e-4541-929e-0b4c02ff7645"
      },
      "execution_count": 7,
      "outputs": [
        {
          "output_type": "execute_result",
          "data": {
            "text/plain": [
              "   CustomerId  NumOfProducts  IsActiveMember  Tenure  Gender  HasCrCard  \\\n",
              "0    15600882            2.0               1       7       0          1   \n",
              "1    15643966            2.0               1       3       1          0   \n",
              "2    15597945            2.0               0       8       0          1   \n",
              "3    15750181            2.0               0       9       1          0   \n",
              "4    15789484            2.0               1       6       0          1   \n",
              "\n",
              "   Geography   Age_esc  EstimatedSalary_Esc  Balance_esc  CreditScore_esc  \\\n",
              "0          2 -0.399717            -0.629019    -1.162719        -0.099752   \n",
              "1          1  0.629742            -0.657489     1.106816        -0.303227   \n",
              "2          2 -0.708555             0.643480    -1.162719        -0.089042   \n",
              "3          1  0.217958            -0.349520     0.583283        -0.977908   \n",
              "4          1 -0.296771            -1.298418     1.530217         1.142519   \n",
              "\n",
              "   Exited_pred  Prob_pred  \n",
              "0            0   0.014888  \n",
              "1            0   0.183761  \n",
              "2            0   0.014888  \n",
              "3            0   0.092827  \n",
              "4            0   0.092827  "
            ],
            "text/html": [
              "\n",
              "  <div id=\"df-eed2881f-4ed1-4b9b-a962-d41f87aec083\">\n",
              "    <div class=\"colab-df-container\">\n",
              "      <div>\n",
              "<style scoped>\n",
              "    .dataframe tbody tr th:only-of-type {\n",
              "        vertical-align: middle;\n",
              "    }\n",
              "\n",
              "    .dataframe tbody tr th {\n",
              "        vertical-align: top;\n",
              "    }\n",
              "\n",
              "    .dataframe thead th {\n",
              "        text-align: right;\n",
              "    }\n",
              "</style>\n",
              "<table border=\"1\" class=\"dataframe\">\n",
              "  <thead>\n",
              "    <tr style=\"text-align: right;\">\n",
              "      <th></th>\n",
              "      <th>CustomerId</th>\n",
              "      <th>NumOfProducts</th>\n",
              "      <th>IsActiveMember</th>\n",
              "      <th>Tenure</th>\n",
              "      <th>Gender</th>\n",
              "      <th>HasCrCard</th>\n",
              "      <th>Geography</th>\n",
              "      <th>Age_esc</th>\n",
              "      <th>EstimatedSalary_Esc</th>\n",
              "      <th>Balance_esc</th>\n",
              "      <th>CreditScore_esc</th>\n",
              "      <th>Exited_pred</th>\n",
              "      <th>Prob_pred</th>\n",
              "    </tr>\n",
              "  </thead>\n",
              "  <tbody>\n",
              "    <tr>\n",
              "      <th>0</th>\n",
              "      <td>15600882</td>\n",
              "      <td>2.0</td>\n",
              "      <td>1</td>\n",
              "      <td>7</td>\n",
              "      <td>0</td>\n",
              "      <td>1</td>\n",
              "      <td>2</td>\n",
              "      <td>-0.399717</td>\n",
              "      <td>-0.629019</td>\n",
              "      <td>-1.162719</td>\n",
              "      <td>-0.099752</td>\n",
              "      <td>0</td>\n",
              "      <td>0.014888</td>\n",
              "    </tr>\n",
              "    <tr>\n",
              "      <th>1</th>\n",
              "      <td>15643966</td>\n",
              "      <td>2.0</td>\n",
              "      <td>1</td>\n",
              "      <td>3</td>\n",
              "      <td>1</td>\n",
              "      <td>0</td>\n",
              "      <td>1</td>\n",
              "      <td>0.629742</td>\n",
              "      <td>-0.657489</td>\n",
              "      <td>1.106816</td>\n",
              "      <td>-0.303227</td>\n",
              "      <td>0</td>\n",
              "      <td>0.183761</td>\n",
              "    </tr>\n",
              "    <tr>\n",
              "      <th>2</th>\n",
              "      <td>15597945</td>\n",
              "      <td>2.0</td>\n",
              "      <td>0</td>\n",
              "      <td>8</td>\n",
              "      <td>0</td>\n",
              "      <td>1</td>\n",
              "      <td>2</td>\n",
              "      <td>-0.708555</td>\n",
              "      <td>0.643480</td>\n",
              "      <td>-1.162719</td>\n",
              "      <td>-0.089042</td>\n",
              "      <td>0</td>\n",
              "      <td>0.014888</td>\n",
              "    </tr>\n",
              "    <tr>\n",
              "      <th>3</th>\n",
              "      <td>15750181</td>\n",
              "      <td>2.0</td>\n",
              "      <td>0</td>\n",
              "      <td>9</td>\n",
              "      <td>1</td>\n",
              "      <td>0</td>\n",
              "      <td>1</td>\n",
              "      <td>0.217958</td>\n",
              "      <td>-0.349520</td>\n",
              "      <td>0.583283</td>\n",
              "      <td>-0.977908</td>\n",
              "      <td>0</td>\n",
              "      <td>0.092827</td>\n",
              "    </tr>\n",
              "    <tr>\n",
              "      <th>4</th>\n",
              "      <td>15789484</td>\n",
              "      <td>2.0</td>\n",
              "      <td>1</td>\n",
              "      <td>6</td>\n",
              "      <td>0</td>\n",
              "      <td>1</td>\n",
              "      <td>1</td>\n",
              "      <td>-0.296771</td>\n",
              "      <td>-1.298418</td>\n",
              "      <td>1.530217</td>\n",
              "      <td>1.142519</td>\n",
              "      <td>0</td>\n",
              "      <td>0.092827</td>\n",
              "    </tr>\n",
              "  </tbody>\n",
              "</table>\n",
              "</div>\n",
              "      <button class=\"colab-df-convert\" onclick=\"convertToInteractive('df-eed2881f-4ed1-4b9b-a962-d41f87aec083')\"\n",
              "              title=\"Convert this dataframe to an interactive table.\"\n",
              "              style=\"display:none;\">\n",
              "        \n",
              "  <svg xmlns=\"http://www.w3.org/2000/svg\" height=\"24px\"viewBox=\"0 0 24 24\"\n",
              "       width=\"24px\">\n",
              "    <path d=\"M0 0h24v24H0V0z\" fill=\"none\"/>\n",
              "    <path d=\"M18.56 5.44l.94 2.06.94-2.06 2.06-.94-2.06-.94-.94-2.06-.94 2.06-2.06.94zm-11 1L8.5 8.5l.94-2.06 2.06-.94-2.06-.94L8.5 2.5l-.94 2.06-2.06.94zm10 10l.94 2.06.94-2.06 2.06-.94-2.06-.94-.94-2.06-.94 2.06-2.06.94z\"/><path d=\"M17.41 7.96l-1.37-1.37c-.4-.4-.92-.59-1.43-.59-.52 0-1.04.2-1.43.59L10.3 9.45l-7.72 7.72c-.78.78-.78 2.05 0 2.83L4 21.41c.39.39.9.59 1.41.59.51 0 1.02-.2 1.41-.59l7.78-7.78 2.81-2.81c.8-.78.8-2.07 0-2.86zM5.41 20L4 18.59l7.72-7.72 1.47 1.35L5.41 20z\"/>\n",
              "  </svg>\n",
              "      </button>\n",
              "      \n",
              "  <style>\n",
              "    .colab-df-container {\n",
              "      display:flex;\n",
              "      flex-wrap:wrap;\n",
              "      gap: 12px;\n",
              "    }\n",
              "\n",
              "    .colab-df-convert {\n",
              "      background-color: #E8F0FE;\n",
              "      border: none;\n",
              "      border-radius: 50%;\n",
              "      cursor: pointer;\n",
              "      display: none;\n",
              "      fill: #1967D2;\n",
              "      height: 32px;\n",
              "      padding: 0 0 0 0;\n",
              "      width: 32px;\n",
              "    }\n",
              "\n",
              "    .colab-df-convert:hover {\n",
              "      background-color: #E2EBFA;\n",
              "      box-shadow: 0px 1px 2px rgba(60, 64, 67, 0.3), 0px 1px 3px 1px rgba(60, 64, 67, 0.15);\n",
              "      fill: #174EA6;\n",
              "    }\n",
              "\n",
              "    [theme=dark] .colab-df-convert {\n",
              "      background-color: #3B4455;\n",
              "      fill: #D2E3FC;\n",
              "    }\n",
              "\n",
              "    [theme=dark] .colab-df-convert:hover {\n",
              "      background-color: #434B5C;\n",
              "      box-shadow: 0px 1px 3px 1px rgba(0, 0, 0, 0.15);\n",
              "      filter: drop-shadow(0px 1px 2px rgba(0, 0, 0, 0.3));\n",
              "      fill: #FFFFFF;\n",
              "    }\n",
              "  </style>\n",
              "\n",
              "      <script>\n",
              "        const buttonEl =\n",
              "          document.querySelector('#df-eed2881f-4ed1-4b9b-a962-d41f87aec083 button.colab-df-convert');\n",
              "        buttonEl.style.display =\n",
              "          google.colab.kernel.accessAllowed ? 'block' : 'none';\n",
              "\n",
              "        async function convertToInteractive(key) {\n",
              "          const element = document.querySelector('#df-eed2881f-4ed1-4b9b-a962-d41f87aec083');\n",
              "          const dataTable =\n",
              "            await google.colab.kernel.invokeFunction('convertToInteractive',\n",
              "                                                     [key], {});\n",
              "          if (!dataTable) return;\n",
              "\n",
              "          const docLinkHtml = 'Like what you see? Visit the ' +\n",
              "            '<a target=\"_blank\" href=https://colab.research.google.com/notebooks/data_table.ipynb>data table notebook</a>'\n",
              "            + ' to learn more about interactive tables.';\n",
              "          element.innerHTML = '';\n",
              "          dataTable['output_type'] = 'display_data';\n",
              "          await google.colab.output.renderOutput(dataTable, element);\n",
              "          const docLink = document.createElement('div');\n",
              "          docLink.innerHTML = docLinkHtml;\n",
              "          element.appendChild(docLink);\n",
              "        }\n",
              "      </script>\n",
              "    </div>\n",
              "  </div>\n",
              "  "
            ]
          },
          "metadata": {},
          "execution_count": 7
        }
      ]
    }
  ]
}